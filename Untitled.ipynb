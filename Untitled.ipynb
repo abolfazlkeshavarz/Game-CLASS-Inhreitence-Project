{
 "cells": [
  {
   "cell_type": "code",
   "execution_count": 2,
   "id": "19b94fe7-2a37-420a-bfdb-ea43d693beb5",
   "metadata": {},
   "outputs": [],
   "source": [
    "import random\n",
    "\n",
    "class WOFPlayer:\n",
    "    def __init__(self, name):\n",
    "        self.name = name\n",
    "        self.prizeMoney = 0\n",
    "        self.prizes = []\n",
    "\n",
    "    def addMoney(self, amt):\n",
    "        self.prizeMoney += amt\n",
    "        \n",
    "    def goBankrupt(self):\n",
    "        self.prizeMoney = 0\n",
    "\n",
    "    def addPrize(self, prize):\n",
    "        self.prizes.append(prize)\n",
    "\n",
    "    def __str__(self):\n",
    "        return \"{} (${})\".format(self.name, self.prizeMoney)"
   ]
  },
  {
   "cell_type": "code",
   "execution_count": 3,
   "id": "e1fb1a06-87c4-4c5d-abb7-e4b9f8251a95",
   "metadata": {},
   "outputs": [],
   "source": [
    "class WOFHumanPlayer(WOFPlayer):\n",
    "    def getMove(self, category, obscuredPhrase, guessed):\n",
    "        print(\"{} has ${}\".format(self.name, self.prizeMoney))\n",
    "        print(\"Category: {}\".format(category))\n",
    "        print(\"Phrase: {}\".format(obscuredPhrase))\n",
    "        print(\"Guessed: {', '.join(sorted(guessed))}\".format(guessed))\n",
    "        return input(\"Guess a letter, phrase, or type 'exit' or 'pass':\")\n"
   ]
  },
  {
   "cell_type": "code",
   "execution_count": 13,
   "id": "532d50c0-877a-4e71-9fa1-e61e26a07958",
   "metadata": {},
   "outputs": [],
   "source": [
    "class WOFComputerPlayer(WOFPlayer):\n",
    "    SORTED_FREQUENCIES = 'ZQXJKVBPYGFWMUCLDRHSNIOATE'\n",
    "    VOWELS = 'AEIOU'\n",
    "\n",
    "    def __init__(self, name, difficulty):\n",
    "        super().__init__(name)\n",
    "        self.difficulty = difficulty\n",
    "        \n",
    "    def smartCoinFlip(self):\n",
    "        return random.randint(1, 10) <= self.difficulty\n",
    "        \n",
    "    def getPossibleLetters(self, guessed):\n",
    "        possible_letters = []\n",
    "        for letter in letters:\n",
    "            if letter not in guessed:\n",
    "                possible_letters.append(letter)\n",
    "        if self.prizeMoney < 250:\n",
    "            if letter not in guessed and not VOWELS:\n",
    "                possible_letters.append(letter)\n",
    "        return possible_letters\n",
    "        \n",
    "    def getMove(self, category, obscuredPhrase, guessed):\n",
    "        if not possible_letters:\n",
    "            return 'pass'\n",
    "        if self.smartCoinFlip() is True:\n",
    "            return self.SORTED_FREQUENCIES[-1]\n",
    "        elif self.smartCoinFlip() is False:\n",
    "            return random.choice(possible_letters)"
   ]
  },
  {
   "cell_type": "code",
   "execution_count": null,
   "id": "bb831c5a-428a-4e33-825a-44f3ed4fdc63",
   "metadata": {},
   "outputs": [],
   "source": []
  }
 ],
 "metadata": {
  "kernelspec": {
   "display_name": "Python 3 (ipykernel)",
   "language": "python",
   "name": "python3"
  },
  "language_info": {
   "codemirror_mode": {
    "name": "ipython",
    "version": 3
   },
   "file_extension": ".py",
   "mimetype": "text/x-python",
   "name": "python",
   "nbconvert_exporter": "python",
   "pygments_lexer": "ipython3",
   "version": "3.10.6"
  }
 },
 "nbformat": 4,
 "nbformat_minor": 5
}
