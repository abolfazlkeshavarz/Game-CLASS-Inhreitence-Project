{
 "cells": [
  {
   "cell_type": "code",
   "execution_count": 2,
   "id": "19b94fe7-2a37-420a-bfdb-ea43d693beb5",
   "metadata": {},
   "outputs": [],
   "source": [
    "class WOFPlayer:\n",
    "    def __init__(self, name):\n",
    "        self.name = name\n",
    "        self.prizeMoney = 0\n",
    "        self.prizes = []\n",
    "\n",
    "    def addMoney(amt):\n",
    "        self.prizeMoney += amt\n",
    "        \n",
    "    def goBankrupt():\n",
    "        self.prizeMoney = 0\n",
    "\n",
    "    def addPrize(prize):\n",
    "        self.prizes.append(prize)\n",
    "\n",
    "    def __str__():\n",
    "        return \"{} (${})\".format(self.name, self.prizeMoney)"
   ]
  },
  {
   "cell_type": "code",
   "execution_count": 3,
   "id": "e1fb1a06-87c4-4c5d-abb7-e4b9f8251a95",
   "metadata": {},
   "outputs": [],
   "source": [
    "class WOFHumanPlayer(WOFPlayer):\n",
    "    def getMove(self, category, obscuredPhrase, guessed):\n",
    "        print(\"{} has ${}\".format(self.name, self.prizeMoney))\n",
    "        print(\"Category: {}\".format(category))\n",
    "        print(\"Phrase: {}\".format(obscuredPhrase))\n",
    "        print(\"Guessed: {', '.join(sorted(guessed))}\".format(guessed))\n",
    "        return input(\"Guess a letter, phrase, or type 'exit' or 'pass':\")\n"
   ]
  },
  {
   "cell_type": "code",
   "execution_count": null,
   "id": "532d50c0-877a-4e71-9fa1-e61e26a07958",
   "metadata": {},
   "outputs": [],
   "source": [
    "class WOFComputerPlayer(WOFPlayer):\n",
    "    SORTED_FREQUENCIES = 'ZQXJKVBPYGFWMUCLDRHSNIOATE'\n",
    "\n",
    "    def __init__(self, name, difficulty):\n",
    "        super().__init__(name)\n",
    "        self.difficulty = difficulty\n",
    "        "
   ]
  }
 ],
 "metadata": {
  "kernelspec": {
   "display_name": "Python 3 (ipykernel)",
   "language": "python",
   "name": "python3"
  },
  "language_info": {
   "codemirror_mode": {
    "name": "ipython",
    "version": 3
   },
   "file_extension": ".py",
   "mimetype": "text/x-python",
   "name": "python",
   "nbconvert_exporter": "python",
   "pygments_lexer": "ipython3",
   "version": "3.10.6"
  }
 },
 "nbformat": 4,
 "nbformat_minor": 5
}
